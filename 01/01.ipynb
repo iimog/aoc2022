{
 "cells": [
  {
   "cell_type": "code",
   "execution_count": 1,
   "id": "576ffeab-35f1-40c4-9d46-27fdfffe31b5",
   "metadata": {},
   "outputs": [],
   "source": [
    "lines = readlines(\"input\");"
   ]
  },
  {
   "cell_type": "code",
   "execution_count": 2,
   "id": "af318792-816b-4e4a-aea5-9ad05ffea3e7",
   "metadata": {},
   "outputs": [],
   "source": [
    "elves = join(lines, \",\") |> x -> split(x,\",,\") |> x -> split.(x,\",\");"
   ]
  },
  {
   "cell_type": "code",
   "execution_count": 3,
   "id": "585ab9f5-6aaa-4e3e-88f9-ddcf16c9ae7c",
   "metadata": {},
   "outputs": [],
   "source": [
    "elves = [parse.(Int, e) for e in elves];"
   ]
  },
  {
   "cell_type": "code",
   "execution_count": 4,
   "id": "6413d4da-96dc-458a-82ea-d934bf63011e",
   "metadata": {},
   "outputs": [
    {
     "data": {
      "text/plain": [
       "69795"
      ]
     },
     "execution_count": 4,
     "metadata": {},
     "output_type": "execute_result"
    }
   ],
   "source": [
    "sum.(elves) |> maximum"
   ]
  },
  {
   "cell_type": "code",
   "execution_count": 5,
   "id": "dd1824c9-d6cc-47e1-a58f-f544e067ab92",
   "metadata": {},
   "outputs": [
    {
     "data": {
      "text/plain": [
       "208437"
      ]
     },
     "execution_count": 5,
     "metadata": {},
     "output_type": "execute_result"
    }
   ],
   "source": [
    "sum.(elves) |> sort |> x -> x[end-2:end] |> sum"
   ]
  }
 ],
 "metadata": {
  "kernelspec": {
   "display_name": "Julia 1.8.0",
   "language": "julia",
   "name": "julia-1.8"
  },
  "language_info": {
   "file_extension": ".jl",
   "mimetype": "application/julia",
   "name": "julia",
   "version": "1.8.0"
  }
 },
 "nbformat": 4,
 "nbformat_minor": 5
}
