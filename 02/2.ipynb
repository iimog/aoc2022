{
 "cells": [
  {
   "cell_type": "code",
   "execution_count": 9,
   "id": "78510da8-5275-474f-a5b6-a2c72d4fd4c7",
   "metadata": {},
   "outputs": [
    {
     "name": "stderr",
     "output_type": "stream",
     "text": [
      "── \u001b[1mAttaching packages\u001b[22m ───────────────────────────────────────────────────────────────────────────────────────────────────────────────────────────────────────────────────── tidyverse 1.3.2 ──\n",
      "\u001b[32m✔\u001b[39m \u001b[34mggplot2\u001b[39m 3.4.0      \u001b[32m✔\u001b[39m \u001b[34mpurrr  \u001b[39m 0.3.5 \n",
      "\u001b[32m✔\u001b[39m \u001b[34mtibble \u001b[39m 3.1.8      \u001b[32m✔\u001b[39m \u001b[34mdplyr  \u001b[39m 1.0.10\n",
      "\u001b[32m✔\u001b[39m \u001b[34mtidyr  \u001b[39m 1.2.1      \u001b[32m✔\u001b[39m \u001b[34mstringr\u001b[39m 1.4.1 \n",
      "\u001b[32m✔\u001b[39m \u001b[34mreadr  \u001b[39m 2.1.3      \u001b[32m✔\u001b[39m \u001b[34mforcats\u001b[39m 0.5.2 \n",
      "── \u001b[1mConflicts\u001b[22m ──────────────────────────────────────────────────────────────────────────────────────────────────────────────────────────────────────────────────────── tidyverse_conflicts() ──\n",
      "\u001b[31m✖\u001b[39m \u001b[34mdplyr\u001b[39m::\u001b[32mfilter()\u001b[39m masks \u001b[34mstats\u001b[39m::filter()\n",
      "\u001b[31m✖\u001b[39m \u001b[34mdplyr\u001b[39m::\u001b[32mlag()\u001b[39m    masks \u001b[34mstats\u001b[39m::lag()\n"
     ]
    }
   ],
   "source": [
    "library(tidyverse)"
   ]
  },
  {
   "cell_type": "code",
   "execution_count": 30,
   "id": "daffadfb-06f2-4163-bf95-a561cf7ff75e",
   "metadata": {},
   "outputs": [
    {
     "name": "stderr",
     "output_type": "stream",
     "text": [
      "\u001b[1mRows: \u001b[22m\u001b[34m2500\u001b[39m \u001b[1mColumns: \u001b[22m\u001b[34m2\u001b[39m\n",
      "\u001b[36m──\u001b[39m \u001b[1mColumn specification\u001b[22m \u001b[36m──────────────────────────────────────────────────────────────────────────────────────────────────────────────────────────────────────────────────────────────────────\u001b[39m\n",
      "\u001b[1mDelimiter:\u001b[22m \" \"\n",
      "\u001b[31mchr\u001b[39m (2): them, us\n",
      "\n",
      "\u001b[36mℹ\u001b[39m Use `spec()` to retrieve the full column specification for this data.\n",
      "\u001b[36mℹ\u001b[39m Specify the column types or set `show_col_types = FALSE` to quiet this message.\n"
     ]
    }
   ],
   "source": [
    "data <- read_delim(\"input\", col_names=c(\"them\",\"us\"))"
   ]
  },
  {
   "cell_type": "code",
   "execution_count": 31,
   "id": "4fb5b12f-ae3b-4da9-9eec-c3df774570f0",
   "metadata": {},
   "outputs": [],
   "source": [
    "win_data <- data %>% mutate(\n",
    "    value = case_when(\n",
    "        us == \"X\" ~ 1,\n",
    "        us == \"Y\" ~ 2,\n",
    "        us == \"Z\" ~ 3,\n",
    "    ),\n",
    "    win = case_when(\n",
    "        them == \"A\" & us == \"X\" ~ 3,\n",
    "        them == \"B\" & us == \"Y\" ~ 3,\n",
    "        them == \"C\" & us == \"Z\" ~ 3,\n",
    "        them == \"A\" & us == \"Y\" ~ 6,\n",
    "        them == \"B\" & us == \"Z\" ~ 6,\n",
    "        them == \"C\" & us == \"X\" ~ 6,\n",
    "        TRUE ~ 0\n",
    "    ),\n",
    "    total = value+win\n",
    ")    "
   ]
  },
  {
   "cell_type": "code",
   "execution_count": 32,
   "id": "b23308e9-0c3f-49ba-acb1-bd74901d41d7",
   "metadata": {},
   "outputs": [
    {
     "data": {
      "text/html": [
       "13565"
      ],
      "text/latex": [
       "13565"
      ],
      "text/markdown": [
       "13565"
      ],
      "text/plain": [
       "[1] 13565"
      ]
     },
     "metadata": {},
     "output_type": "display_data"
    }
   ],
   "source": [
    "sum(win_data$total)"
   ]
  },
  {
   "cell_type": "code",
   "execution_count": 34,
   "id": "b4e1104f-5261-4603-b310-7604f1705a15",
   "metadata": {},
   "outputs": [],
   "source": [
    "win_data2 <- data %>% mutate(\n",
    "    total = case_when(\n",
    "        them == \"A\" & us == \"X\" ~ 3,\n",
    "        them == \"B\" & us == \"X\" ~ 1,\n",
    "        them == \"C\" & us == \"X\" ~ 2,\n",
    "        them == \"A\" & us == \"Y\" ~ 4,\n",
    "        them == \"B\" & us == \"Y\" ~ 5,\n",
    "        them == \"C\" & us == \"Y\" ~ 6,\n",
    "        them == \"A\" & us == \"Z\" ~ 8,\n",
    "        them == \"B\" & us == \"Z\" ~ 9,\n",
    "        them == \"C\" & us == \"Z\" ~ 7,\n",
    "    )\n",
    ")    "
   ]
  },
  {
   "cell_type": "code",
   "execution_count": 35,
   "id": "7cd515dc-c1a5-4360-885f-56c7c5ce1945",
   "metadata": {},
   "outputs": [
    {
     "data": {
      "text/html": [
       "12424"
      ],
      "text/latex": [
       "12424"
      ],
      "text/markdown": [
       "12424"
      ],
      "text/plain": [
       "[1] 12424"
      ]
     },
     "metadata": {},
     "output_type": "display_data"
    }
   ],
   "source": [
    "sum(win_data2$total)"
   ]
  },
  {
   "cell_type": "code",
   "execution_count": null,
   "id": "06f6e40c-0c96-4b2d-83f7-babd8f5134ef",
   "metadata": {},
   "outputs": [],
   "source": []
  }
 ],
 "metadata": {
  "kernelspec": {
   "display_name": "R",
   "language": "R",
   "name": "ir"
  },
  "language_info": {
   "codemirror_mode": "r",
   "file_extension": ".r",
   "mimetype": "text/x-r-source",
   "name": "R",
   "pygments_lexer": "r",
   "version": "4.1.2"
  }
 },
 "nbformat": 4,
 "nbformat_minor": 5
}
