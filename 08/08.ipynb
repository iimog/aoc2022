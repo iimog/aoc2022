{
 "cells": [
  {
   "cell_type": "markdown",
   "id": "56ca3e24-0aa0-4a8a-9411-1f5eff6f1606",
   "metadata": {},
   "source": [
    "# Advent of Code - Day 8"
   ]
  },
  {
   "cell_type": "markdown",
   "id": "fb5c2cad-4b1e-47fb-b48b-d8a17f38d440",
   "metadata": {},
   "source": [
    "## Reading data"
   ]
  },
  {
   "cell_type": "code",
   "execution_count": 1,
   "id": "f31f0ad8-e80c-4d6f-82e3-0e5d88045368",
   "metadata": {},
   "outputs": [
    {
     "data": {
      "text/plain": [
       "99×99 adjoint(::Matrix{Int64}) with eltype Int64:\n",
       " 0  0  2  1  0  0  0  3  0  2  2  2  3  …  1  0  1  2  2  3  1  2  0  1  1  0\n",
       " 1  0  2  0  3  0  3  2  2  3  4  1  1     1  1  0  3  0  2  3  2  0  0  0  3\n",
       " 0  0  3  0  1  2  2  0  3  4  0  4  0     2  4  3  3  1  4  1  0  2  0  3  3\n",
       " 3  3  0  3  1  3  4  2  3  0  0  2  0     0  1  3  4  3  0  1  4  1  2  0  3\n",
       " 3  3  1  2  0  3  1  2  1  1  3  1  2     3  1  0  1  3  4  3  2  4  3  0  0\n",
       " 2  3  2  2  0  1  2  3  1  0  2  1  0  …  2  4  0  4  1  1  2  1  3  4  3  1\n",
       " 0  3  3  0  3  3  3  3  3  3  0  1  0     2  3  2  2  0  1  2  3  0  4  4  1\n",
       " 1  3  2  2  0  1  0  3  2  2  3  4  3     4  5  3  0  4  1  1  1  1  2  3  4\n",
       " 3  1  4  3  2  2  3  4  1  3  2  2  1     5  1  4  0  1  4  2  3  4  3  4  4\n",
       " 1  0  1  3  2  3  0  4  3  0  2  3  4     2  5  3  1  0  2  2  1  1  3  1  0\n",
       " 3  2  0  4  0  4  2  4  2  5  1  4  1  …  3  2  2  0  3  2  4  2  1  3  0  3\n",
       " 2  2  1  2  0  4  1  2  3  2  0  5  1     5  5  4  3  3  3  1  0  2  0  3  4\n",
       " 3  4  0  3  1  0  1  5  5  2  2  5  4     2  1  4  0  0  0  1  3  3  0  0  2\n",
       " ⋮              ⋮              ⋮        ⋱           ⋮              ⋮        \n",
       " 3  4  2  1  3  1  0  5  2  2  3  2  4     2  4  0  1  4  1  2  3  2  0  0  2\n",
       " 2  4  4  4  2  1  1  0  1  3  5  4  0     3  3  4  1  0  1  2  3  1  0  2  0\n",
       " 2  3  2  4  0  4  4  0  2  3  0  4  3     2  3  2  5  4  4  1  4  3  4  4  2\n",
       " 2  0  1  3  2  1  0  3  3  5  2  0  1  …  5  0  1  1  2  3  3  1  4  1  0  4\n",
       " 2  1  1  2  3  2  0  3  4  4  4  2  5     0  5  4  0  1  4  3  0  3  1  2  4\n",
       " 2  2  4  0  3  2  2  3  3  2  4  0  4     1  3  0  0  1  0  1  4  1  4  0  0\n",
       " 0  0  4  1  1  0  1  0  1  1  3  3  5     0  2  1  3  1  2  4  2  1  4  3  3\n",
       " 0  0  0  3  0  4  4  3  3  2  3  2  4     5  2  2  2  2  1  0  0  4  0  4  2\n",
       " 2  0  0  2  0  4  4  4  1  0  2  0  1  …  3  2  4  4  0  0  3  1  2  3  0  3\n",
       " 3  0  0  2  1  1  0  2  2  4  4  0  3     1  0  0  3  0  2  4  1  3  2  3  1\n",
       " 3  1  0  3  1  2  4  1  3  2  1  0  0     3  3  1  0  1  2  4  0  1  2  3  2\n",
       " 1  3  2  0  2  0  3  4  1  3  3  0  3     1  1  1  0  3  3  1  0  1  2  0  3"
      ]
     },
     "execution_count": 1,
     "metadata": {},
     "output_type": "execute_result"
    }
   ],
   "source": [
    "mat = parse.(Int,hcat(split.(readlines(\"input\"),\"\")...))'"
   ]
  },
  {
   "cell_type": "markdown",
   "id": "876f3f7a-9401-4fbc-b26d-b3a2e05c128d",
   "metadata": {},
   "source": [
    "## Part 1"
   ]
  },
  {
   "cell_type": "code",
   "execution_count": 2,
   "id": "540176d0-cbc6-49c6-83cf-99697ef10f5a",
   "metadata": {},
   "outputs": [],
   "source": [
    "function is_border(mat, i, j)\n",
    "    border_row = i in [1,size(mat,1)]\n",
    "    border_col = j in [1,size(mat,2)]\n",
    "    return border_row || border_col\n",
    "end;"
   ]
  },
  {
   "cell_type": "code",
   "execution_count": 3,
   "id": "1c748dde-735a-41f3-b7ca-19630ea8b7de",
   "metadata": {},
   "outputs": [],
   "source": [
    "function get_views(mat, i, j)\n",
    "    left, right = mat[i,1:j-1], mat[i,j+1:end]\n",
    "    top, bottom = mat[1:i-1,j], mat[i+1:end,j]\n",
    "    return left, right, top, bottom\n",
    "end;"
   ]
  },
  {
   "cell_type": "code",
   "execution_count": 4,
   "id": "9cba6a25-2d7d-4285-885a-629fea015ed1",
   "metadata": {},
   "outputs": [],
   "source": [
    "function is_visible(mat, i, j)\n",
    "    if is_border(mat,i,j)\n",
    "        return true\n",
    "    end\n",
    "    center = mat[i,j]\n",
    "    minimax = minimum(maximum.(get_views(mat,i,j)))\n",
    "    return center > minimax\n",
    "end;"
   ]
  },
  {
   "cell_type": "code",
   "execution_count": 5,
   "id": "2884cda6-29a0-4002-900c-0aae43027ce7",
   "metadata": {},
   "outputs": [],
   "source": [
    "function all_positions(mat)\n",
    "    return Iterators.product(1:size(mat,1), 1:size(mat,2))\n",
    "end;"
   ]
  },
  {
   "cell_type": "code",
   "execution_count": 6,
   "id": "9dadcf71-1c1a-42e1-a4b8-b45ba66a3a08",
   "metadata": {},
   "outputs": [
    {
     "data": {
      "text/plain": [
       "1698"
      ]
     },
     "execution_count": 6,
     "metadata": {},
     "output_type": "execute_result"
    }
   ],
   "source": [
    "sum([is_visible(mat,i,j) for (i,j) in all_positions(mat)])"
   ]
  },
  {
   "cell_type": "markdown",
   "id": "a2b43d29-b37a-4ad4-b7ea-282e5318ec36",
   "metadata": {},
   "source": [
    "## Part 2"
   ]
  },
  {
   "cell_type": "code",
   "execution_count": 7,
   "id": "8130796c-bbb6-4c3e-8f37-59fe19f9e524",
   "metadata": {},
   "outputs": [],
   "source": [
    "function get_directed_views(mat,i,j)\n",
    "    left, right, top, bottom = get_views(mat,i,j)\n",
    "    return reverse(left), right, reverse(top), bottom\n",
    "end;"
   ]
  },
  {
   "cell_type": "code",
   "execution_count": 8,
   "id": "9eea5b64-c571-438c-b268-c0dcef5c67b8",
   "metadata": {},
   "outputs": [],
   "source": [
    "function get_viewing_dist(dview, height)\n",
    "    blocker = findfirst(dview .>= height)\n",
    "    if blocker |> isnothing\n",
    "        return length(dview)\n",
    "    end\n",
    "    return blocker\n",
    "end;"
   ]
  },
  {
   "cell_type": "code",
   "execution_count": 9,
   "id": "5aaffe66-2b13-4958-9d81-707f24725584",
   "metadata": {},
   "outputs": [],
   "source": [
    "function scenic_score(mat, i, j)\n",
    "    dviews = get_directed_views(mat, i, j)\n",
    "    dists = get_viewing_dist.(dviews, mat[i,j])\n",
    "    return prod(dists)\n",
    "end;"
   ]
  },
  {
   "cell_type": "code",
   "execution_count": 10,
   "id": "fd624dbb-b395-4582-9e41-5ff8bd49e270",
   "metadata": {},
   "outputs": [
    {
     "data": {
      "text/plain": [
       "672280"
      ]
     },
     "execution_count": 10,
     "metadata": {},
     "output_type": "execute_result"
    }
   ],
   "source": [
    "maximum([scenic_score(mat,i,j) for (i,j) in all_positions(mat)])"
   ]
  }
 ],
 "metadata": {
  "kernelspec": {
   "display_name": "Julia 1.8.0",
   "language": "julia",
   "name": "julia-1.8"
  },
  "language_info": {
   "file_extension": ".jl",
   "mimetype": "application/julia",
   "name": "julia",
   "version": "1.8.0"
  }
 },
 "nbformat": 4,
 "nbformat_minor": 5
}
