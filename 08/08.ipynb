{
 "cells": [
  {
   "cell_type": "markdown",
   "id": "56ca3e24-0aa0-4a8a-9411-1f5eff6f1606",
   "metadata": {},
   "source": [
    "# Advent of Code - Day 8"
   ]
  },
  {
   "cell_type": "markdown",
   "id": "fb5c2cad-4b1e-47fb-b48b-d8a17f38d440",
   "metadata": {},
   "source": [
    "## Reading data"
   ]
  },
  {
   "cell_type": "code",
   "execution_count": 17,
   "id": "eeb6f091-e9b2-4e5a-b4e7-7385deaf7da7",
   "metadata": {},
   "outputs": [],
   "source": [
    "using BenchmarkTools"
   ]
  },
  {
   "cell_type": "code",
   "execution_count": 19,
   "id": "bd995da4-26e8-4654-87fe-7ef92a5e04a7",
   "metadata": {},
   "outputs": [
    {
     "data": {
      "text/plain": [
       "bla (generic function with 1 method)"
      ]
     },
     "execution_count": 19,
     "metadata": {},
     "output_type": "execute_result"
    }
   ],
   "source": [
    "function bla(a,b,c)\n",
    "    return a + b + c\n",
    "end"
   ]
  },
  {
   "cell_type": "code",
   "execution_count": 20,
   "id": "5b05cfbe-652e-499f-9535-21e53055a3a8",
   "metadata": {},
   "outputs": [
    {
     "data": {
      "text/plain": [
       "6"
      ]
     },
     "execution_count": 20,
     "metadata": {},
     "output_type": "execute_result"
    }
   ],
   "source": [
    "bla(1,2,3)"
   ]
  },
  {
   "cell_type": "code",
   "execution_count": 21,
   "id": "3dc65685-3d81-4188-bce3-258dea0ebb63",
   "metadata": {},
   "outputs": [
    {
     "data": {
      "text/plain": [
       "6"
      ]
     },
     "execution_count": 21,
     "metadata": {},
     "output_type": "execute_result"
    }
   ],
   "source": [
    "input = [1,2,3]\n",
    "bla(input...)"
   ]
  },
  {
   "cell_type": "code",
   "execution_count": 22,
   "id": "f31f0ad8-e80c-4d6f-82e3-0e5d88045368",
   "metadata": {},
   "outputs": [
    {
     "data": {
      "text/plain": [
       "99×99 adjoint(::Matrix{Int64}) with eltype Int64:\n",
       " 0  0  2  1  0  0  0  3  0  2  2  2  3  …  1  0  1  2  2  3  1  2  0  1  1  0\n",
       " 1  0  2  0  3  0  3  2  2  3  4  1  1     1  1  0  3  0  2  3  2  0  0  0  3\n",
       " 0  0  3  0  1  2  2  0  3  4  0  4  0     2  4  3  3  1  4  1  0  2  0  3  3\n",
       " 3  3  0  3  1  3  4  2  3  0  0  2  0     0  1  3  4  3  0  1  4  1  2  0  3\n",
       " 3  3  1  2  0  3  1  2  1  1  3  1  2     3  1  0  1  3  4  3  2  4  3  0  0\n",
       " 2  3  2  2  0  1  2  3  1  0  2  1  0  …  2  4  0  4  1  1  2  1  3  4  3  1\n",
       " 0  3  3  0  3  3  3  3  3  3  0  1  0     2  3  2  2  0  1  2  3  0  4  4  1\n",
       " 1  3  2  2  0  1  0  3  2  2  3  4  3     4  5  3  0  4  1  1  1  1  2  3  4\n",
       " 3  1  4  3  2  2  3  4  1  3  2  2  1     5  1  4  0  1  4  2  3  4  3  4  4\n",
       " 1  0  1  3  2  3  0  4  3  0  2  3  4     2  5  3  1  0  2  2  1  1  3  1  0\n",
       " 3  2  0  4  0  4  2  4  2  5  1  4  1  …  3  2  2  0  3  2  4  2  1  3  0  3\n",
       " 2  2  1  2  0  4  1  2  3  2  0  5  1     5  5  4  3  3  3  1  0  2  0  3  4\n",
       " 3  4  0  3  1  0  1  5  5  2  2  5  4     2  1  4  0  0  0  1  3  3  0  0  2\n",
       " ⋮              ⋮              ⋮        ⋱           ⋮              ⋮        \n",
       " 3  4  2  1  3  1  0  5  2  2  3  2  4     2  4  0  1  4  1  2  3  2  0  0  2\n",
       " 2  4  4  4  2  1  1  0  1  3  5  4  0     3  3  4  1  0  1  2  3  1  0  2  0\n",
       " 2  3  2  4  0  4  4  0  2  3  0  4  3     2  3  2  5  4  4  1  4  3  4  4  2\n",
       " 2  0  1  3  2  1  0  3  3  5  2  0  1  …  5  0  1  1  2  3  3  1  4  1  0  4\n",
       " 2  1  1  2  3  2  0  3  4  4  4  2  5     0  5  4  0  1  4  3  0  3  1  2  4\n",
       " 2  2  4  0  3  2  2  3  3  2  4  0  4     1  3  0  0  1  0  1  4  1  4  0  0\n",
       " 0  0  4  1  1  0  1  0  1  1  3  3  5     0  2  1  3  1  2  4  2  1  4  3  3\n",
       " 0  0  0  3  0  4  4  3  3  2  3  2  4     5  2  2  2  2  1  0  0  4  0  4  2\n",
       " 2  0  0  2  0  4  4  4  1  0  2  0  1  …  3  2  4  4  0  0  3  1  2  3  0  3\n",
       " 3  0  0  2  1  1  0  2  2  4  4  0  3     1  0  0  3  0  2  4  1  3  2  3  1\n",
       " 3  1  0  3  1  2  4  1  3  2  1  0  0     3  3  1  0  1  2  4  0  1  2  3  2\n",
       " 1  3  2  0  2  0  3  4  1  3  3  0  3     1  1  1  0  3  3  1  0  1  2  0  3"
      ]
     },
     "execution_count": 22,
     "metadata": {},
     "output_type": "execute_result"
    }
   ],
   "source": [
    "mat = parse.(Int,hcat(split.(readlines(\"input\"),\"\")...))'"
   ]
  },
  {
   "cell_type": "markdown",
   "id": "876f3f7a-9401-4fbc-b26d-b3a2e05c128d",
   "metadata": {},
   "source": [
    "## Part 1"
   ]
  },
  {
   "cell_type": "markdown",
   "id": "be491b3f-5353-448c-a4dc-d408a70f9227",
   "metadata": {
    "tags": []
   },
   "source": [
    "### Helper Functions"
   ]
  },
  {
   "cell_type": "code",
   "execution_count": 23,
   "id": "540176d0-cbc6-49c6-83cf-99697ef10f5a",
   "metadata": {},
   "outputs": [],
   "source": [
    "function is_border(mat, i, j)\n",
    "    border_row = i in [1,size(mat,1)]\n",
    "    border_col = j in [1,size(mat,2)]\n",
    "    return border_row || border_col\n",
    "end;"
   ]
  },
  {
   "cell_type": "code",
   "execution_count": 24,
   "id": "1c748dde-735a-41f3-b7ca-19630ea8b7de",
   "metadata": {},
   "outputs": [],
   "source": [
    "function get_views(mat, i, j)\n",
    "    left, right = mat[i,1:j-1], mat[i,j+1:end]\n",
    "    top, bottom = mat[1:i-1,j], mat[i+1:end,j]\n",
    "    return left, right, top, bottom\n",
    "end;"
   ]
  },
  {
   "cell_type": "code",
   "execution_count": 25,
   "id": "9cba6a25-2d7d-4285-885a-629fea015ed1",
   "metadata": {},
   "outputs": [],
   "source": [
    "function is_visible(mat, i, j)\n",
    "    if is_border(mat,i,j)\n",
    "        return true\n",
    "    end\n",
    "    center = mat[i,j]\n",
    "    minimax = minimum(maximum.(get_views(mat,i,j)))\n",
    "    return center > minimax\n",
    "end;"
   ]
  },
  {
   "cell_type": "code",
   "execution_count": 26,
   "id": "2884cda6-29a0-4002-900c-0aae43027ce7",
   "metadata": {},
   "outputs": [],
   "source": [
    "function all_positions(mat)\n",
    "    return Iterators.product(1:size(mat,1), 1:size(mat,2))\n",
    "end;"
   ]
  },
  {
   "cell_type": "markdown",
   "id": "75befe7b-a881-4fa0-9785-e9edf521f2fd",
   "metadata": {},
   "source": [
    "### Solution"
   ]
  },
  {
   "cell_type": "code",
   "execution_count": 27,
   "id": "9dadcf71-1c1a-42e1-a4b8-b45ba66a3a08",
   "metadata": {},
   "outputs": [
    {
     "data": {
      "text/plain": [
       "BenchmarkTools.Trial: 340 samples with 1 evaluation.\n",
       " Range \u001b[90m(\u001b[39m\u001b[36m\u001b[1mmin\u001b[22m\u001b[39m … \u001b[35mmax\u001b[39m\u001b[90m):  \u001b[39m\u001b[36m\u001b[1m 6.556 ms\u001b[22m\u001b[39m … \u001b[35m30.695 ms\u001b[39m  \u001b[90m┊\u001b[39m GC \u001b[90m(\u001b[39mmin … max\u001b[90m): \u001b[39m 0.00% … 33.21%\n",
       " Time  \u001b[90m(\u001b[39m\u001b[34m\u001b[1mmedian\u001b[22m\u001b[39m\u001b[90m):     \u001b[39m\u001b[34m\u001b[1m14.020 ms              \u001b[22m\u001b[39m\u001b[90m┊\u001b[39m GC \u001b[90m(\u001b[39mmedian\u001b[90m):    \u001b[39m 0.00%\n",
       " Time  \u001b[90m(\u001b[39m\u001b[32m\u001b[1mmean\u001b[22m\u001b[39m ± \u001b[32mσ\u001b[39m\u001b[90m):   \u001b[39m\u001b[32m\u001b[1m14.666 ms\u001b[22m\u001b[39m ± \u001b[32m 4.118 ms\u001b[39m  \u001b[90m┊\u001b[39m GC \u001b[90m(\u001b[39mmean ± σ\u001b[90m):  \u001b[39m16.61% ± 17.04%\n",
       "\n",
       "  \u001b[39m \u001b[39m \u001b[39m \u001b[39m \u001b[39m \u001b[39m \u001b[39m \u001b[39m \u001b[39m \u001b[39m \u001b[39m \u001b[39m \u001b[39m \u001b[39m▄\u001b[39m▃\u001b[39m█\u001b[39m▄\u001b[39m▂\u001b[39m▃\u001b[39m▁\u001b[39m▂\u001b[34m \u001b[39m\u001b[39m▁\u001b[32m \u001b[39m\u001b[39m \u001b[39m▃\u001b[39m▄\u001b[39m▄\u001b[39m▂\u001b[39m▁\u001b[39m \u001b[39m \u001b[39m \u001b[39m \u001b[39m \u001b[39m \u001b[39m \u001b[39m \u001b[39m \u001b[39m \u001b[39m \u001b[39m \u001b[39m \u001b[39m \u001b[39m \u001b[39m \u001b[39m \u001b[39m \u001b[39m \u001b[39m \u001b[39m \u001b[39m \u001b[39m \u001b[39m \u001b[39m \u001b[39m \u001b[39m \u001b[39m \u001b[39m \u001b[39m \u001b[39m \n",
       "  \u001b[39m▄\u001b[39m▃\u001b[39m▃\u001b[39m▃\u001b[39m▄\u001b[39m▄\u001b[39m▅\u001b[39m▇\u001b[39m▆\u001b[39m█\u001b[39m█\u001b[39m█\u001b[39m▇\u001b[39m█\u001b[39m█\u001b[39m█\u001b[39m█\u001b[39m█\u001b[39m█\u001b[39m█\u001b[39m█\u001b[34m▆\u001b[39m\u001b[39m█\u001b[32m▆\u001b[39m\u001b[39m█\u001b[39m█\u001b[39m█\u001b[39m█\u001b[39m█\u001b[39m█\u001b[39m▆\u001b[39m█\u001b[39m█\u001b[39m▅\u001b[39m▆\u001b[39m▆\u001b[39m▃\u001b[39m▆\u001b[39m▅\u001b[39m▃\u001b[39m▃\u001b[39m▆\u001b[39m▁\u001b[39m▄\u001b[39m▃\u001b[39m▃\u001b[39m▃\u001b[39m▃\u001b[39m▃\u001b[39m▄\u001b[39m▁\u001b[39m▃\u001b[39m▃\u001b[39m▁\u001b[39m▁\u001b[39m▃\u001b[39m▁\u001b[39m▁\u001b[39m▃\u001b[39m \u001b[39m▄\n",
       "  6.56 ms\u001b[90m         Histogram: frequency by time\u001b[39m        27.3 ms \u001b[0m\u001b[1m<\u001b[22m\n",
       "\n",
       " Memory estimate\u001b[90m: \u001b[39m\u001b[33m18.19 MiB\u001b[39m, allocs estimate\u001b[90m: \u001b[39m\u001b[33m57245\u001b[39m."
      ]
     },
     "execution_count": 27,
     "metadata": {},
     "output_type": "execute_result"
    }
   ],
   "source": [
    "@benchmark sum([is_visible(mat,i,j) for (i,j) in all_positions(mat)])"
   ]
  },
  {
   "cell_type": "markdown",
   "id": "a2b43d29-b37a-4ad4-b7ea-282e5318ec36",
   "metadata": {
    "tags": []
   },
   "source": [
    "## Part 2"
   ]
  },
  {
   "cell_type": "markdown",
   "id": "4493897d-bb98-4b1d-8059-ebd84c4f6aab",
   "metadata": {
    "tags": []
   },
   "source": [
    "### Helper Functions"
   ]
  },
  {
   "cell_type": "code",
   "execution_count": 28,
   "id": "8130796c-bbb6-4c3e-8f37-59fe19f9e524",
   "metadata": {},
   "outputs": [],
   "source": [
    "function get_directed_views(mat,i,j)\n",
    "    left, right, top, bottom = get_views(mat,i,j)\n",
    "    return reverse(left), right, reverse(top), bottom\n",
    "end;"
   ]
  },
  {
   "cell_type": "code",
   "execution_count": 29,
   "id": "9eea5b64-c571-438c-b268-c0dcef5c67b8",
   "metadata": {},
   "outputs": [],
   "source": [
    "function get_viewing_dist(dview, height)\n",
    "    blocker = findfirst(dview .>= height)\n",
    "    if blocker |> isnothing\n",
    "        return length(dview)\n",
    "    end\n",
    "    return blocker\n",
    "end;"
   ]
  },
  {
   "cell_type": "code",
   "execution_count": 30,
   "id": "5aaffe66-2b13-4958-9d81-707f24725584",
   "metadata": {},
   "outputs": [],
   "source": [
    "function scenic_score(mat, i, j)\n",
    "    dviews = get_directed_views(mat, i, j)\n",
    "    dists = get_viewing_dist.(dviews, mat[i,j])\n",
    "    return prod(dists)\n",
    "end;"
   ]
  },
  {
   "cell_type": "markdown",
   "id": "c05af16f-eb22-431a-819f-61c2e46eb410",
   "metadata": {},
   "source": [
    "### Solution"
   ]
  },
  {
   "cell_type": "code",
   "execution_count": 32,
   "id": "fd624dbb-b395-4582-9e41-5ff8bd49e270",
   "metadata": {},
   "outputs": [
    {
     "data": {
      "text/plain": [
       "BenchmarkTools.Trial: 103 samples with 1 evaluation.\n",
       " Range \u001b[90m(\u001b[39m\u001b[36m\u001b[1mmin\u001b[22m\u001b[39m … \u001b[35mmax\u001b[39m\u001b[90m):  \u001b[39m\u001b[36m\u001b[1m24.947 ms\u001b[22m\u001b[39m … \u001b[35m99.364 ms\u001b[39m  \u001b[90m┊\u001b[39m GC \u001b[90m(\u001b[39mmin … max\u001b[90m): \u001b[39m12.00% … 15.43%\n",
       " Time  \u001b[90m(\u001b[39m\u001b[34m\u001b[1mmedian\u001b[22m\u001b[39m\u001b[90m):     \u001b[39m\u001b[34m\u001b[1m45.314 ms              \u001b[22m\u001b[39m\u001b[90m┊\u001b[39m GC \u001b[90m(\u001b[39mmedian\u001b[90m):    \u001b[39m17.96%\n",
       " Time  \u001b[90m(\u001b[39m\u001b[32m\u001b[1mmean\u001b[22m\u001b[39m ± \u001b[32mσ\u001b[39m\u001b[90m):   \u001b[39m\u001b[32m\u001b[1m48.679 ms\u001b[22m\u001b[39m ± \u001b[32m14.545 ms\u001b[39m  \u001b[90m┊\u001b[39m GC \u001b[90m(\u001b[39mmean ± σ\u001b[90m):  \u001b[39m18.88% ±  7.95%\n",
       "\n",
       "  \u001b[39m \u001b[39m \u001b[39m \u001b[39m \u001b[39m \u001b[39m \u001b[39m \u001b[39m \u001b[39m▂\u001b[39m \u001b[39m \u001b[39m \u001b[39m \u001b[39m \u001b[39m▂\u001b[39m█\u001b[34m \u001b[39m\u001b[39m \u001b[39m \u001b[32m \u001b[39m\u001b[39m \u001b[39m▂\u001b[39m \u001b[39m \u001b[39m \u001b[39m \u001b[39m \u001b[39m \u001b[39m \u001b[39m \u001b[39m \u001b[39m \u001b[39m \u001b[39m \u001b[39m \u001b[39m \u001b[39m \u001b[39m \u001b[39m \u001b[39m \u001b[39m \u001b[39m \u001b[39m \u001b[39m \u001b[39m \u001b[39m \u001b[39m \u001b[39m \u001b[39m \u001b[39m \u001b[39m \u001b[39m \u001b[39m \u001b[39m \u001b[39m \u001b[39m \u001b[39m \u001b[39m \u001b[39m \u001b[39m \u001b[39m \n",
       "  \u001b[39m▅\u001b[39m▃\u001b[39m▃\u001b[39m▁\u001b[39m▅\u001b[39m▆\u001b[39m▃\u001b[39m▆\u001b[39m█\u001b[39m▅\u001b[39m▃\u001b[39m█\u001b[39m█\u001b[39m█\u001b[39m█\u001b[39m█\u001b[34m█\u001b[39m\u001b[39m█\u001b[39m▆\u001b[32m▅\u001b[39m\u001b[39m█\u001b[39m█\u001b[39m▃\u001b[39m█\u001b[39m▃\u001b[39m▁\u001b[39m▃\u001b[39m▃\u001b[39m▁\u001b[39m█\u001b[39m▅\u001b[39m▃\u001b[39m▅\u001b[39m▃\u001b[39m▃\u001b[39m▁\u001b[39m▃\u001b[39m▆\u001b[39m▁\u001b[39m▃\u001b[39m▃\u001b[39m▁\u001b[39m▁\u001b[39m▃\u001b[39m▁\u001b[39m▁\u001b[39m▁\u001b[39m▃\u001b[39m▁\u001b[39m▃\u001b[39m▁\u001b[39m▁\u001b[39m▁\u001b[39m▁\u001b[39m▁\u001b[39m▁\u001b[39m▁\u001b[39m▁\u001b[39m▃\u001b[39m \u001b[39m▃\n",
       "  24.9 ms\u001b[90m         Histogram: frequency by time\u001b[39m        97.1 ms \u001b[0m\u001b[1m<\u001b[22m\n",
       "\n",
       " Memory estimate\u001b[90m: \u001b[39m\u001b[33m50.20 MiB\u001b[39m, allocs estimate\u001b[90m: \u001b[39m\u001b[33m214885\u001b[39m."
      ]
     },
     "execution_count": 32,
     "metadata": {},
     "output_type": "execute_result"
    }
   ],
   "source": [
    "@benchmark begin\n",
    "    mat = parse.(Int,hcat(split.(readlines(\"input\"),\"\")...))'\n",
    "    sum([is_visible(mat,i,j) for (i,j) in all_positions(mat)])\n",
    "    maximum([scenic_score(mat,i,j) for (i,j) in all_positions(mat)])\n",
    "end"
   ]
  },
  {
   "cell_type": "code",
   "execution_count": null,
   "id": "3d294bd3-5b63-471a-ae7f-13ee2af70c5b",
   "metadata": {},
   "outputs": [],
   "source": []
  }
 ],
 "metadata": {
  "kernelspec": {
   "display_name": "Julia 1.8.0",
   "language": "julia",
   "name": "julia-1.8"
  },
  "language_info": {
   "file_extension": ".jl",
   "mimetype": "application/julia",
   "name": "julia",
   "version": "1.8.0"
  }
 },
 "nbformat": 4,
 "nbformat_minor": 5
}
